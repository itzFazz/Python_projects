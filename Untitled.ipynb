{
 "cells": [
  {
   "cell_type": "code",
   "execution_count": null,
   "id": "00264b6a",
   "metadata": {},
   "outputs": [
    {
     "name": "stdout",
     "output_type": "stream",
     "text": [
      "Enter lower limit: 300000000\n",
      "Enter upper limit: 300003000\n"
     ]
    }
   ],
   "source": [
    "n1=int(input(\"Enter lower limit: \"))\n",
    "n2=int(input(\"Enter upper limit: \"))\n",
    "i=1\n",
    "n=n1+1\n",
    "while True:\n",
    "\ti+=1\n",
    "\tif n<n2:\n",
    "\t\tif i<n:\n",
    "\t\t\tif n%i!=0:\n",
    "\t\t\t\tcontinue\n",
    "\t\t\telse:\n",
    "\t\t\t\tn+=1\n",
    "\t\t\t\ti=1\n",
    "\t\t\t\tcontinue\n",
    "\t\telse:\n",
    "\t\t\tprint(n)\n",
    "\t\t\tn+=1\n",
    "\t\t\ti=1\n",
    "\t\t\tcontinue\n",
    "\telse:\n",
    "\t\tbreak\t"
   ]
  }
 ],
 "metadata": {
  "kernelspec": {
   "display_name": "Python 3 (ipykernel)",
   "language": "python",
   "name": "python3"
  },
  "language_info": {
   "codemirror_mode": {
    "name": "ipython",
    "version": 3
   },
   "file_extension": ".py",
   "mimetype": "text/x-python",
   "name": "python",
   "nbconvert_exporter": "python",
   "pygments_lexer": "ipython3",
   "version": "3.9.7"
  }
 },
 "nbformat": 4,
 "nbformat_minor": 5
}
